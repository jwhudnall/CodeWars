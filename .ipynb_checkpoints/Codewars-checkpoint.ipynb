{
 "cells": [
  {
   "cell_type": "markdown",
   "metadata": {},
   "source": [
    "# CodeWars\n",
    "\n",
    "This is a collection of my solutions to coding challenges on the website [Codewars](www.codewars.com)"
   ]
  },
  {
   "cell_type": "markdown",
   "metadata": {},
   "source": [
    "## Sum - Square Even, Root Odd\n",
    "#### Difficulty: 7kyu\n",
    "#### Instructions:\n",
    "Complete the function that takes a list of numbers `(nums)`, as the only argument to the function. Take each number in the list and square it if it is even, or square root the number if it is odd. Take this new list and return the sum of it, rounded to two decimal places.\n",
    "\n",
    "The list will never be empty and will only contain values that are greater than or equal to zero.\n",
    "\n",
    "#### Sample Tests:\n",
    "\n",
    "`Test.describe(\"Basic tests\")`\n",
    "\n",
    "`Test.assert_equals(sum_square_even_root_odd([4,5,7,8,1,2,3,0]), 91.61)`\n",
    "`Test.assert_equals(sum_square_even_root_odd([1,14,9,8,17,21]), 272.71)`\n",
    "\n",
    "#### Solution:"
   ]
  },
  {
   "cell_type": "code",
   "execution_count": 1,
   "metadata": {},
   "outputs": [],
   "source": [
    "def sum_square_even_root_odd(nums):\n",
    "    mod_list = []\n",
    "    for num in nums:\n",
    "        if num % 2 == 0:\n",
    "            mod_list.append(num**2)\n",
    "        else:\n",
    "            mod_list.append(num**(1/2))\n",
    "    total = sum(mod_list)\n",
    "    total_rounded = round(total, 2)\n",
    "    return total_rounded"
   ]
  },
  {
   "cell_type": "markdown",
   "metadata": {},
   "source": [
    "## Domain Name Extractor\n",
    "#### Difficulty: 5kyu\n",
    "#### Instructions:\n",
    "Write a function that when given a URL as a string, parses out just the domain name and returns it as a string. For example:\n",
    "\n",
    "`domain_name(\"http://github.com/carbonfive/raygun\") == \"github\" \n",
    "domain_name(\"http://www.zombie-bites.com\") == \"zombie-bites\"\n",
    "domain_name(\"https://www.cnet.com\") == \"cnet\"`\n",
    "\n",
    "#### Solution:"
   ]
  },
  {
   "cell_type": "code",
   "execution_count": 2,
   "metadata": {},
   "outputs": [],
   "source": [
    "def domain_name(url):    \n",
    "    if 'www.' in url:\n",
    "        url = url.split('www.')\n",
    "        url = url[1]\n",
    "    elif '//' in url:\n",
    "        url = url.split('//')\n",
    "        url = url[1]\n",
    "    url = url.split('.')\n",
    "    url = url[0]\n",
    "    return url"
   ]
  },
  {
   "cell_type": "markdown",
   "metadata": {},
   "source": [
    "## Reverse words\n",
    "#### Difficulty: 7kyu\n",
    "#### Instructions:\n",
    "Complete the function that accepts a string parameter, and reverses each word in the string. All spaces in the string should be retained.\n",
    "\n",
    "Examples\n",
    "`\"This is an example!\" ==> \"sihT si na !elpmaxe\"\n",
    "\"double  spaces\"      ==> \"elbuod  secaps\"`\n",
    "\n",
    "#### Solution:"
   ]
  },
  {
   "cell_type": "code",
   "execution_count": 3,
   "metadata": {},
   "outputs": [],
   "source": [
    "def reverse_words(text):\n",
    "    final = ''\n",
    "    words = text.split(' ')\n",
    "    if len(words) == 1:\n",
    "        return text[::-1]\n",
    "    else:\n",
    "        for word in words:\n",
    "            final += word[::-1] + ' '\n",
    "    return final.rstrip()"
   ]
  },
  {
   "cell_type": "code",
   "execution_count": 4,
   "metadata": {},
   "outputs": [
    {
     "name": "stdout",
     "output_type": "stream",
     "text": [
      "ehT kciuq nworb xof spmuj revo eht yzal .god\n"
     ]
    }
   ],
   "source": [
    "print(reverse_words('The quick brown fox jumps over the lazy dog.'))"
   ]
  },
  {
   "cell_type": "markdown",
   "metadata": {},
   "source": [
    "## Find the odd int\n",
    "#### Difficulty: 6kyu\n",
    "#### Instructions:\n",
    "Given an array of integers, find the one that appears an odd number of times.\n",
    "\n",
    "There will always be only one integer that appears an odd number of times.\n",
    "#### Sample Tests:\n",
    "\n",
    "`test.assert_equals(find_it([20,1,-1,2,-2,3,3,5,5,1,2,4,20,4,-1,-2,5]), 5)\n",
    "test.assert_equals(find_it([1,1,2,-2,5,2,4,4,-1,-2,5]), -1); \n",
    "test.assert_equals(find_it([20,1,1,2,2,3,3,5,5,4,20,4,5]), 5);\n",
    "test.assert_equals(find_it([10]), 10);\n",
    "test.assert_equals(find_it([1,1,1,1,1,1,10,1,1,1,1]), 10);\n",
    "test.assert_equals(find_it([5,4,3,2,1,5,4,3,2,10,10]), 1);`\n",
    "\n",
    "#### Solution:"
   ]
  },
  {
   "cell_type": "code",
   "execution_count": 5,
   "metadata": {},
   "outputs": [],
   "source": [
    "def find_it(seq):\n",
    "    nums_dict = {}\n",
    "    \n",
    "    # Populate a dictionary with integers:counts\n",
    "    for num in seq:\n",
    "        if num not in nums_dict:\n",
    "            nums_dict[num] = 1\n",
    "        else:\n",
    "            nums_dict[num] += 1\n",
    "    \n",
    "    # Return the first integer having an odd count\n",
    "    for k,v in nums_dict.items():\n",
    "        if v % 2 != 0:\n",
    "            return k"
   ]
  },
  {
   "cell_type": "code",
   "execution_count": 6,
   "metadata": {},
   "outputs": [
    {
     "name": "stdout",
     "output_type": "stream",
     "text": [
      "1\n"
     ]
    }
   ],
   "source": [
    "print(find_it([5,4,3,2,1,5,4,3,2,10,10]))\n"
   ]
  },
  {
   "cell_type": "markdown",
   "metadata": {},
   "source": [
    "**Better Solution:**"
   ]
  },
  {
   "cell_type": "code",
   "execution_count": 7,
   "metadata": {},
   "outputs": [],
   "source": [
    "def find_it(seq):\n",
    "    for i in seq:\n",
    "        if seq.count(i)%2!=0:\n",
    "            return i"
   ]
  },
  {
   "cell_type": "markdown",
   "metadata": {},
   "source": [
    "## Your order, please\n",
    "#### Difficulty: 6kyu\n",
    "#### Instructions:\n",
    "Your task is to sort a given string. Each word in the string will contain a single number. This number is the position the word should have in the result.\n",
    "\n",
    "Note: Numbers can be from 1 to 9. So 1 will be the first word (not 0).\n",
    "\n",
    "If the input string is empty, return an empty string. The words in the input String will only contain valid consecutive numbers.\n",
    "#### Sample Tests:\n",
    "\n",
    "`Test.assert_equals(order(\"is2 Thi1s T4est 3a\"), \"Thi1s is2 3a T4est\")\n",
    "Test.assert_equals(order(\"4of Fo1r pe6ople g3ood th5e the2\"), \"Fo1r the2 g3ood 4of th5e pe6ople\")\n",
    "Test.assert_equals(order(\"\"), \"\")`\n",
    "\n",
    "#### Solution:"
   ]
  },
  {
   "cell_type": "code",
   "execution_count": 8,
   "metadata": {},
   "outputs": [],
   "source": [
    "def order(sentence):\n",
    "    if not sentence:\n",
    "        return \"\"\n",
    "    \n",
    "    split_sentence = sentence.split()\n",
    "    list_of_words = []\n",
    "    \n",
    "    # append digit, word to list_of_words for sorting later\n",
    "    for word in split_sentence:\n",
    "        for char in word:\n",
    "            if char.isdigit():\n",
    "                list_of_words.append( (int(char), word) )\n",
    "                \n",
    "    return \" \".join(word for idx, word in sorted(list_of_words))"
   ]
  },
  {
   "cell_type": "code",
   "execution_count": 9,
   "metadata": {},
   "outputs": [
    {
     "data": {
      "text/plain": [
       "'Fo1r the2 g3ood 4of th5e pe6ople'"
      ]
     },
     "execution_count": 9,
     "metadata": {},
     "output_type": "execute_result"
    }
   ],
   "source": [
    "order(\"4of Fo1r pe6ople g3ood th5e the2\")"
   ]
  },
  {
   "cell_type": "markdown",
   "metadata": {},
   "source": [
    "## The Vowel Code\n",
    "#### Difficulty: 6kyu\n",
    "#### Instructions:\n",
    "**Step 1:** Create a function called encode() to replace all the lowercase vowels in a given string with numbers according to the following pattern:\n",
    "\n",
    "* a -> 1\n",
    "* e -> 2\n",
    "* i -> 3\n",
    "* o -> 4\n",
    "* u -> 5\n",
    "\n",
    "For example, `encode(\"hello\")` would return `\"h2ll4\"`. There is no need to worry about uppercase vowels in this kata.\n",
    "\n",
    "**Step 2:** Now create a function called decode() to turn the numbers back into vowels according to the same pattern shown above.\n",
    "\n",
    "For example, decode(\"h3 th2r2\") would return \"hi there\".\n",
    "\n",
    "For the sake of simplicity, you can assume that any numbers passed into the function will correspond to vowels.\n",
    "\n",
    "#### Sample Tests:\n",
    "\n",
    "`test.assert_equals(encode('hello'), 'h2ll4')\n",
    "test.assert_equals(encode('How are you today?'), 'H4w 1r2 y45 t4d1y?')\n",
    "test.assert_equals(encode('This is an encoding test.'), 'Th3s 3s 1n 2nc4d3ng t2st.')\n",
    "test.assert_equals(decode('h2ll4'), 'hello')`\n",
    "\n",
    "\n",
    "#### Solution:"
   ]
  },
  {
   "cell_type": "code",
   "execution_count": 10,
   "metadata": {},
   "outputs": [],
   "source": [
    "def encode(st):\n",
    "    '''Function that accepts a string as input and encodes vowels with numbers.\n",
    "    Returns encoded_str'''\n",
    "    \n",
    "    # Specify the encoding rules\n",
    "    vowel_encoding = {'a': 1, 'e': 2, 'i': 3, 'o': 4, 'u': 5}\n",
    "    coded_str = ''\n",
    "    \n",
    "    for char in st:\n",
    "        if char in vowel_encoding:\n",
    "            coded_str += str(vowel_encoding[char])\n",
    "        else:\n",
    "            coded_str += char\n",
    "    return coded_str\n",
    "    \n",
    "def decode(st):\n",
    "    '''Function that accepts a string as input and decodes numbers 1-5 with their corresponding vowels,\n",
    "    as specified within the function. Returns decoded_str'''\n",
    "    \n",
    "    # Specify the decoding rules\n",
    "    vowel_decoding = {'1': 'a', '2': 'e', '3': 'i', '4': 'o', '5': 'u'}\n",
    "    decoded_str = ''\n",
    "    \n",
    "    for char in st:\n",
    "        if char in vowel_decoding:\n",
    "            decoded_str += vowel_decoding[char]\n",
    "        else:\n",
    "            decoded_str += char\n",
    "    return decoded_str"
   ]
  },
  {
   "cell_type": "code",
   "execution_count": 11,
   "metadata": {
    "scrolled": true
   },
   "outputs": [
    {
     "data": {
      "text/plain": [
       "'h2ll4'"
      ]
     },
     "execution_count": 11,
     "metadata": {},
     "output_type": "execute_result"
    }
   ],
   "source": [
    "encode('hello')"
   ]
  },
  {
   "cell_type": "code",
   "execution_count": 12,
   "metadata": {
    "scrolled": true
   },
   "outputs": [
    {
     "data": {
      "text/plain": [
       "'hello'"
      ]
     },
     "execution_count": 12,
     "metadata": {},
     "output_type": "execute_result"
    }
   ],
   "source": [
    "decode('h2ll4')"
   ]
  },
  {
   "cell_type": "markdown",
   "metadata": {},
   "source": [
    "**More Succint Solution Using `str.maketrans` and `.translate()` Method**\n",
    "\n",
    "[Link](https://www.programiz.com/python-programming/methods/string/maketrans) to `maketrans` and `.translate()` Method"
   ]
  },
  {
   "cell_type": "code",
   "execution_count": 13,
   "metadata": {},
   "outputs": [],
   "source": [
    "def encode(s, t=str.maketrans(\"aeiou\", \"12345\")):\n",
    "    return s.translate(t)\n",
    "    \n",
    "def decode(s, t=str.maketrans(\"12345\", \"aeiou\")):\n",
    "    return s.translate(t)"
   ]
  },
  {
   "cell_type": "markdown",
   "metadata": {},
   "source": [
    "## Highest Rank Number in an Array\n",
    "#### Difficulty: 6kyu\n",
    "#### Instructions:\n",
    "Complete the method which returns the number which is most frequent in the given input array. If there is a tie for most frequent number, return the largest number among them.\n",
    "\n",
    "Note: no empty arrays will be given.\n",
    "\n",
    "#### Sample Tests:\n",
    "\n",
    "`test.assert_equals(highest_rank([12, 10, 8, 12, 7, 6, 4, 10, 12]), 12)\n",
    "test.assert_equals(highest_rank([12, 10, 8, 12, 7, 6, 4, 10, 10]), 10)`\n",
    "\n",
    "#### Solution:"
   ]
  },
  {
   "cell_type": "code",
   "execution_count": 14,
   "metadata": {},
   "outputs": [],
   "source": [
    "def highest_rank(arr):\n",
    "    '''Function that accepts a list as an argument and returns the most frequent item.\n",
    "    if multiple values have the same high-count, the larger item is returned'''\n",
    "    \n",
    "    # Populate a dictionary of arr items, counts\n",
    "    num_dict = {}\n",
    "    for num in arr:\n",
    "        if num not in num_dict:\n",
    "            num_dict[num]=1\n",
    "        else:\n",
    "            num_dict[num]+=1\n",
    "    \n",
    "    # Retreive the maximum count within the dictionary\n",
    "    all_values = num_dict.values()\n",
    "    max_value = max(all_values)\n",
    "    \n",
    "    # Create a list of all dictionary keys with the max_value value\n",
    "    max_val_list = []\n",
    "    for k,v in num_dict.items():\n",
    "        if v == max_value:\n",
    "            max_val_list.append(k)\n",
    "            \n",
    "    # Return the largest item having the highest count        \n",
    "    return max(max_val_list)"
   ]
  },
  {
   "cell_type": "code",
   "execution_count": 15,
   "metadata": {},
   "outputs": [
    {
     "data": {
      "text/plain": [
       "10"
      ]
     },
     "execution_count": 15,
     "metadata": {},
     "output_type": "execute_result"
    }
   ],
   "source": [
    "# Test\n",
    "highest_rank([12, 10, 8, 12, 7, 6, 4, 10, 10])"
   ]
  },
  {
   "cell_type": "markdown",
   "metadata": {},
   "source": [
    "### To-Study:\n",
    "Follow-up Solution using `Counter` library:"
   ]
  },
  {
   "cell_type": "code",
   "execution_count": 16,
   "metadata": {},
   "outputs": [],
   "source": [
    "from collections import Counter\n",
    "\n",
    "def highest_rank(arr):\n",
    "    if arr:\n",
    "        c = Counter(arr)\n",
    "        m = max(c.values())\n",
    "        return max(k for k,v in c.items() if v==m)"
   ]
  },
  {
   "cell_type": "markdown",
   "metadata": {},
   "source": [
    "# Counter Learning\n",
    "`elements()`\n",
    "Return an iterator over elements repeating each as many times as its count. Elements are returned in the order first encountered. If an element’s count is less than one, elements() will ignore it."
   ]
  },
  {
   "cell_type": "code",
   "execution_count": 17,
   "metadata": {},
   "outputs": [
    {
     "data": {
      "text/plain": [
       "[1, 1, 2, 2, 2, 2, 3, 3, 3, 12, 14]"
      ]
     },
     "execution_count": 17,
     "metadata": {},
     "output_type": "execute_result"
    }
   ],
   "source": [
    "from collections import Counter\n",
    "\n",
    "my_list = [1,1,2,2,2,2,3,3,3,14,12]\n",
    "c = Counter(my_list)\n",
    "sorted(c.elements())"
   ]
  },
  {
   "cell_type": "markdown",
   "metadata": {},
   "source": [
    "`most_common([n])`\n",
    "Return a list of the n most common elements and their counts from the most common to the least. If n is omitted or None, most_common() returns all elements in the counter. Elements with equal counts are ordered in the order first encountered:"
   ]
  },
  {
   "cell_type": "code",
   "execution_count": 18,
   "metadata": {},
   "outputs": [
    {
     "data": {
      "text/plain": [
       "[(2, 4), (3, 3)]"
      ]
     },
     "execution_count": 18,
     "metadata": {},
     "output_type": "execute_result"
    }
   ],
   "source": [
    "from collections import Counter\n",
    "\n",
    "my_list = [1,1,2,2,2,2,3,3,3,14,12]\n",
    "c = Counter(my_list)\n",
    "c.most_common(2) # Shows there are 4 2's, and 3 3's."
   ]
  },
  {
   "cell_type": "markdown",
   "metadata": {},
   "source": [
    "`subtract([iterable-or-mapping])`\n",
    "Elements are subtracted from an iterable or from another mapping (or counter). Like dict.update() but subtracts counts instead of replacing them. Both inputs and outputs may be zero or negative."
   ]
  },
  {
   "cell_type": "code",
   "execution_count": 19,
   "metadata": {},
   "outputs": [
    {
     "data": {
      "text/plain": [
       "Counter({'a': 3, 'b': 0, 'c': -3, 'd': -6})"
      ]
     },
     "execution_count": 19,
     "metadata": {},
     "output_type": "execute_result"
    }
   ],
   "source": [
    "c = Counter(a=4, b=2, c=0, d=-2)\n",
    "d = Counter(a=1, b=2, c=3, d=4)\n",
    "c.subtract(d)\n",
    "c"
   ]
  },
  {
   "cell_type": "markdown",
   "metadata": {},
   "source": [
    "**Common Uses:**\n",
    "* `sum(c.values())`                 # total of all counts\n",
    "* `c.clear()`                       # reset all counts\n",
    "* `list(c)`                         # list unique elements\n",
    "* `set(c)`                          # convert to a set\n",
    "* `dict(c)`                         # convert to a regular dictionary\n",
    "* `c.items()`                       # convert to a list of (elem, cnt) pairs\n",
    "* `Counter(dict(list_of_pairs))`    # convert from a list of (elem, cnt) pairs\n",
    "* `c.most_common()[:-n-1:-1]`       # n least common elements\n",
    "* `+c`                              # remove zero and negative counts"
   ]
  },
  {
   "cell_type": "code",
   "execution_count": 20,
   "metadata": {
    "scrolled": true
   },
   "outputs": [
    {
     "data": {
      "text/plain": [
       "3"
      ]
     },
     "execution_count": 20,
     "metadata": {},
     "output_type": "execute_result"
    }
   ],
   "source": [
    "max(c.values())"
   ]
  },
  {
   "cell_type": "markdown",
   "metadata": {},
   "source": [
    "Redefine `highest_rank` function from memory:"
   ]
  },
  {
   "cell_type": "code",
   "execution_count": 21,
   "metadata": {},
   "outputs": [],
   "source": [
    "from collections import Counter\n",
    "\n",
    "def highest_rank_new(arr):\n",
    "    if arr:\n",
    "        c = Counter(arr)\n",
    "        m = max(c.values())\n",
    "        highest_val = max( (k for k,v in c.items() if v==m) )\n",
    "        return highest_val"
   ]
  },
  {
   "cell_type": "code",
   "execution_count": 22,
   "metadata": {},
   "outputs": [
    {
     "data": {
      "text/plain": [
       "5"
      ]
     },
     "execution_count": 22,
     "metadata": {},
     "output_type": "execute_result"
    }
   ],
   "source": [
    "new_arr = [1,2,2,3,3,3,4,4,4,4,4,5,5,5,5,5]\n",
    "highest_rank_new(new_arr)"
   ]
  },
  {
   "cell_type": "markdown",
   "metadata": {},
   "source": [
    "## Encrypt this!\n",
    "#### Difficulty: 6kyu\n",
    "#### Instructions:\n",
    "You want to create secret messages which can be deciphered by the Decipher this! kata. Here are the conditions:\n",
    "\n",
    "1. Your message is a string containing space separated words.\n",
    "2. You need to encrypt each word in the message using the following rules:\n",
    "    * The first letter needs to be converted to its ASCII code.\n",
    "    * The second letter needs to be switched with the last letter\n",
    "3. Keepin' it simple: There are no special characters in input.\n",
    "#### Sample Tests:\n",
    "`encrypt_this(\"Hello\") == \"72olle\"\n",
    "encrypt_this(\"good\") == \"103doo\"\n",
    "encrypt_this(\"hello world\") == \"104olle 119drlo\"`\n",
    "\n",
    "#### Solution:"
   ]
  },
  {
   "cell_type": "code",
   "execution_count": 23,
   "metadata": {},
   "outputs": [],
   "source": [
    "def encrypt_this(text):\n",
    "    if len(text) >= 1:\n",
    "        sentence = text.split()\n",
    "        final_sentence = ''\n",
    "        for word in sentence:\n",
    "            if len(word) == 1:\n",
    "                final_sentence += str(ord(word)) + ' '\n",
    "            elif len(word) == 2:\n",
    "                new_word = ''\n",
    "                first_char = word[0]\n",
    "                first_char = str(ord(first_char))\n",
    "                second_char = word[-1]\n",
    "                new_word += first_char + second_char\n",
    "                final_sentence+= new_word + ' '\n",
    "            else:\n",
    "                new_word = ''\n",
    "                first_char = word[0]\n",
    "                first_char = str(ord(first_char))\n",
    "                second_char = word[-1]\n",
    "                last_char = word[1]\n",
    "                middle_chars = word[2:-1]\n",
    "                new_word += first_char + second_char + middle_chars + last_char\n",
    "                final_sentence+= new_word + ' '\n",
    "\n",
    "        return final_sentence.strip()\n",
    "    return \"\""
   ]
  },
  {
   "cell_type": "code",
   "execution_count": 24,
   "metadata": {},
   "outputs": [
    {
     "data": {
      "text/plain": [
       "'72olle'"
      ]
     },
     "execution_count": 24,
     "metadata": {},
     "output_type": "execute_result"
    }
   ],
   "source": [
    "encrypt_this(\"Hello\")"
   ]
  },
  {
   "cell_type": "code",
   "execution_count": 25,
   "metadata": {},
   "outputs": [
    {
     "data": {
      "text/plain": [
       "'103doo'"
      ]
     },
     "execution_count": 25,
     "metadata": {},
     "output_type": "execute_result"
    }
   ],
   "source": [
    "encrypt_this(\"good\")"
   ]
  },
  {
   "cell_type": "code",
   "execution_count": 26,
   "metadata": {},
   "outputs": [
    {
     "data": {
      "text/plain": [
       "''"
      ]
     },
     "execution_count": 26,
     "metadata": {},
     "output_type": "execute_result"
    }
   ],
   "source": [
    "encrypt_this(\" \")"
   ]
  },
  {
   "cell_type": "code",
   "execution_count": 27,
   "metadata": {},
   "outputs": [
    {
     "data": {
      "text/plain": [
       "False"
      ]
     },
     "execution_count": 27,
     "metadata": {},
     "output_type": "execute_result"
    }
   ],
   "source": [
    "word = 'apple'\n",
    "word[1] == True"
   ]
  },
  {
   "cell_type": "markdown",
   "metadata": {},
   "source": [
    "### Better Solution:\n",
    "From the string input:\n",
    "1. Convert word into a list. This gives us a mutable object with which we can work.\n",
    "2. Replace the first letter with the corresponding ascii code. This can be done directly within the list.\n",
    "3. Add condition where, if there are more than 2 letters, the second letter is switched with the last.\n",
    "4. Convert the modified word list back into a string using the `join` method. Append this to a new list, `result`.\n",
    "5. Finally, use the `join` method to return a string of the letters contained in the `result` list."
   ]
  },
  {
   "cell_type": "code",
   "execution_count": 28,
   "metadata": {},
   "outputs": [],
   "source": [
    "def encrypt_this(text):\n",
    "    result = []\n",
    "    \n",
    "    for word in text.split():\n",
    "        # turn word into a list\n",
    "        word = list(word)\n",
    "        \n",
    "        # replace first letter with ascii code\n",
    "        word[0] = str(ord(word[0]))\n",
    "        \n",
    "        # switch 2nd and last letters\n",
    "        if len(word) > 2:\n",
    "            word[1], word[-1] = word[-1], word[1]\n",
    "        \n",
    "        # add to results\n",
    "        result.append(''.join(word))\n",
    "    \n",
    "    return ' '.join(result)"
   ]
  },
  {
   "cell_type": "code",
   "execution_count": 29,
   "metadata": {},
   "outputs": [
    {
     "name": "stdout",
     "output_type": "stream",
     "text": [
      "73 97m 97 108gno 115grint 111f 116txe\n"
     ]
    }
   ],
   "source": [
    "text = \"I am a long string of text\"\n",
    "result = []\n",
    "\n",
    "for word in text.split():\n",
    "    word = list(word)\n",
    "    \n",
    "    word[0] = str(ord(word[0]))\n",
    "    if len(word) > 2:\n",
    "        word[1], word[-1] = word[-1], word[1]\n",
    "    \n",
    "    result.append(''.join(word))\n",
    "print(' '.join(result))"
   ]
  },
  {
   "cell_type": "markdown",
   "metadata": {},
   "source": [
    "## Decipher this!\n",
    "[Link](https://www.codewars.com/kata/581e014b55f2c52bb00000f8/train/python)\n",
    "#### Difficulty: 6 kyu\n",
    "#### Instructions:\n",
    "You are given a secret message you need to decipher. Here are the things you need to know to decipher it:\n",
    "\n",
    "For each word:\n",
    "\n",
    "* the second and the last letter is switched (e.g. Hello becomes Holle)\n",
    "* the first letter is replaced by its character code (e.g. H becomes 72)\n",
    "\n",
    "*Note: there are no special characters used, only letters and spaces*\n",
    "#### Sample Tests:\n",
    "\n",
    "`decipherThis('72olle 103doo 100ya'); // 'Hello good day'\n",
    "decipherThis('82yade 115te 103o'); // 'Ready set go'`\n",
    "\n",
    "#### Solution:"
   ]
  },
  {
   "cell_type": "code",
   "execution_count": 30,
   "metadata": {},
   "outputs": [],
   "source": [
    "def decipher_this(string):\n",
    "    result = []\n",
    "    \n",
    "    for word in string.split():\n",
    "        word = list(word)\n",
    "        \n",
    "        # Isolate leading integer\n",
    "        char_code = ''.join(x for x in word if x.isdigit())\n",
    "        char_code = int(char_code)\n",
    "        first_letter_len = len(str(char_code))\n",
    "        \n",
    "        # Convert first letter from ordinal encoding to character\n",
    "        word[0:first_letter_len] = chr(char_code)\n",
    "        \n",
    "        # Swaps 2nd and last letter if word has more than 2 letters\n",
    "        if len(word) > 2:\n",
    "            word[1], word[-1] = word[-1], word[1]\n",
    "        \n",
    "        result.append(''.join(word))\n",
    "    return ' '.join(result)"
   ]
  },
  {
   "cell_type": "code",
   "execution_count": 31,
   "metadata": {},
   "outputs": [
    {
     "data": {
      "text/plain": [
       "'A wise old owl lived in an oak'"
      ]
     },
     "execution_count": 31,
     "metadata": {},
     "output_type": "execute_result"
    }
   ],
   "source": [
    "decipher_this(\"65 119esi 111dl 111lw 108dvei 105n 97n 111ka\")"
   ]
  },
  {
   "cell_type": "code",
   "execution_count": 32,
   "metadata": {
    "scrolled": true
   },
   "outputs": [
    {
     "data": {
      "text/plain": [
       "'Hello good day'"
      ]
     },
     "execution_count": 32,
     "metadata": {},
     "output_type": "execute_result"
    }
   ],
   "source": [
    "decipher_this('72olle 103doo 100ya')"
   ]
  },
  {
   "cell_type": "markdown",
   "metadata": {},
   "source": [
    "## Unique In Order\n",
    "[Link](https://www.codewars.com/kata/54e6533c92449cc251001667/train/python)\n",
    "#### Difficulty: 6 kyu\n",
    "#### Instructions:\n",
    "Implement the function unique_in_order which takes as argument a sequence and returns a list of items without any elements with the same value next to each other and preserving the original order of elements.\n",
    "\n",
    "#### Sample Tests:\n",
    "\n",
    "`unique_in_order('AAAABBBCCDAABBB') == ['A', 'B', 'C', 'D', 'A', 'B']\n",
    "unique_in_order('ABBCcAD')         == ['A', 'B', 'C', 'c', 'A', 'D']\n",
    "unique_in_order([1,2,2,3,3])       == [1,2,3]`\n",
    "\n",
    "#### Solution:"
   ]
  },
  {
   "cell_type": "code",
   "execution_count": 33,
   "metadata": {},
   "outputs": [],
   "source": [
    "def unique_in_order(iterable):\n",
    "    '''Accepts an iterable as an argument. Outputs a list of items with consecutive elements removed.'''\n",
    "    \n",
    "    # Convert iterable to a list\n",
    "    iter_list = list(iterable)\n",
    "\n",
    "    current_char = None\n",
    "    final_list = []\n",
    "    \n",
    "    # Adds char to final_list if char different from previous\n",
    "    for char in iter_list:\n",
    "        if char == current_char:\n",
    "            pass\n",
    "        else:\n",
    "            final_list.append(char)\n",
    "            current_char = char\n",
    "            \n",
    "    return final_list"
   ]
  },
  {
   "cell_type": "code",
   "execution_count": 34,
   "metadata": {},
   "outputs": [
    {
     "data": {
      "text/plain": [
       "['A', 'B', 'C', 'D', 'A', 'B']"
      ]
     },
     "execution_count": 34,
     "metadata": {},
     "output_type": "execute_result"
    }
   ],
   "source": [
    "unique_in_order('AAAABBBCCDAABBB')"
   ]
  },
  {
   "cell_type": "markdown",
   "metadata": {},
   "source": [
    "## Who likes it?\n",
    "[Link](https://www.codewars.com/kata/5266876b8f4bf2da9b000362/train/python)\n",
    "#### Difficulty: 6 kyu\n",
    "#### Instructions:\n",
    "You probably know the \"like\" system from Facebook and other pages. People can \"like\" blog posts, pictures or other items. We want to create the text that should be displayed next to such an item.\n",
    "\n",
    "Implement a function `likes :: [String] -> String`, which must take in input array, containing the names of people who like an item. It must return the display text as shown in the examples:\n",
    "#### Sample Tests:\n",
    "`likes([]) # must be \"no one likes this\"\n",
    "likes([\"Peter\"]) # must be \"Peter likes this\"\n",
    "likes([\"Jacob\", \"Alex\"]) # must be \"Jacob and Alex like this\"\n",
    "likes([\"Max\", \"John\", \"Mark\"]) # must be \"Max, John and Mark like this\"\n",
    "likes([\"Alex\", \"Jacob\", \"Mark\", \"Max\"]) # must be \"Alex, Jacob and 2 others like this\"`\n",
    "#### Solution:"
   ]
  },
  {
   "cell_type": "code",
   "execution_count": 35,
   "metadata": {},
   "outputs": [],
   "source": [
    "def likes(names):\n",
    "    # find length of names\n",
    "    num_likes = len(names)\n",
    "    \n",
    "    if len(names) == 1:\n",
    "        name = names[0].title()\n",
    "        return f\"{name} likes this\"\n",
    "    \n",
    "    elif len(names) == 2:\n",
    "        name1, name2 = names[0].title(), names[1].title()\n",
    "        return f'{name1} and {name2} like this'\n",
    "    \n",
    "    elif len(names) == 3:\n",
    "        name1, name2, name3 = names[0].title(), names[1].title(), names[2].title()\n",
    "        return f'{name1}, {name2} and {name3} like this'\n",
    "    \n",
    "    elif len(names) > 3:\n",
    "        name1, name2 = names[0].title(), names[1].title()\n",
    "        remaining_likes = len(names) - 2\n",
    "        return f'{name1}, {name2} and {remaining_likes} others like this'\n",
    "    \n",
    "    return 'no one likes this'"
   ]
  },
  {
   "cell_type": "markdown",
   "metadata": {},
   "source": [
    "## English beggars\n",
    "[Link](https://www.codewars.com/kata/59590976838112bfea0000fa/train/python)\n",
    "#### Difficulty: 6 kyu\n",
    "#### Instructions:\n",
    "Born a misinterpretation of this kata, your task here is pretty simple: given an array of values and an amount of beggars, you are supposed to return an array with the sum of what each beggar brings home, assuming they all take regular turns, from the first to the last.\n",
    "\n",
    "For example: `[1,2,3,4,5]` for 2 beggars will return a result of `[9,6]`, as the first one takes `[1,3,5]`, the second collects `[2,4]`.\n",
    "\n",
    "The same array with 3 beggars would have in turn have produced a better out come for the second beggar: `[5,7,3]`, as they will respectively take `[1,4]`, `[2,5]` and `[3]`.\n",
    "\n",
    "Also note that not all beggars have to take the same amount of \"offers\", meaning that the length of the array is not necessarily a multiple of `n`; length can be even shorter, in which case the last beggars will of course take nothing (`0`).\n",
    "#### Sample Tests:\n",
    "`Test.assert_equals(beggars([1,2,3,4,5],1),[15])\n",
    "Test.assert_equals(beggars([1,2,3,4,5],2),[9,6])\n",
    "Test.assert_equals(beggars([1,2,3,4,5],3),[5,7,3])\n",
    "Test.assert_equals(beggars([1,2,3,4,5],6),[1,2,3,4,5,0])\n",
    "Test.assert_equals(beggars([1,2,3,4,5],0),[])`\n",
    "#### Solution:"
   ]
  },
  {
   "cell_type": "code",
   "execution_count": 36,
   "metadata": {},
   "outputs": [],
   "source": [
    "def beggars(values, n):\n",
    "    # Step through the values list by n-steps, once for each value in range n\n",
    "    return [sum(values[i::n]) for i in range(n)]"
   ]
  },
  {
   "cell_type": "code",
   "execution_count": 37,
   "metadata": {},
   "outputs": [
    {
     "data": {
      "text/plain": [
       "[15]"
      ]
     },
     "execution_count": 37,
     "metadata": {},
     "output_type": "execute_result"
    }
   ],
   "source": [
    "beggars([1,2,3,4,5],1)"
   ]
  },
  {
   "cell_type": "code",
   "execution_count": 38,
   "metadata": {
    "scrolled": true
   },
   "outputs": [
    {
     "data": {
      "text/plain": [
       "[9, 6]"
      ]
     },
     "execution_count": 38,
     "metadata": {},
     "output_type": "execute_result"
    }
   ],
   "source": [
    "beggars([1,2,3,4,5],2)"
   ]
  },
  {
   "cell_type": "markdown",
   "metadata": {},
   "source": [
    "## If you can read this...\n",
    "[Link](https://www.codewars.com/kata/586538146b56991861000293/train/python)\n",
    "#### Difficulty: 6 kyu\n",
    "#### Instructions:\n",
    "You'll have to translate a string to Pilot's alphabet (NATO phonetic alphabet) [wiki](https://en.wikipedia.org/wiki/NATO_phonetic_alphabet).\n",
    "\n",
    "Like this:\n",
    "\n",
    "Input:\n",
    "\n",
    "`If, you can read?`\n",
    "\n",
    "Output:\n",
    "\n",
    "`India Foxtrot , Yankee Oscar Uniform Charlie Alfa November Romeo Echo Alfa Delta ?`\n",
    "#### Sample Tests:\n",
    "\n",
    "#### Solution:"
   ]
  },
  {
   "cell_type": "code",
   "execution_count": 39,
   "metadata": {},
   "outputs": [],
   "source": [
    "def to_nato(words):\n",
    "    # result collects converted letters\n",
    "    result = []\n",
    "    \n",
    "    # Define Nato dictionary\n",
    "    NATO = {\n",
    "        'A': 'Alfa',\n",
    "        'B': 'Bravo',\n",
    "        'C': 'Charlie',\n",
    "        'D': 'Delta',\n",
    "        'E': 'Echo',\n",
    "        'F': 'Foxtrot',\n",
    "        'G': 'Golf',\n",
    "        'H': 'Hotel',\n",
    "        'I': 'India',\n",
    "        'J': 'Juliett',\n",
    "        'K': 'Kilo',\n",
    "        'L': 'Lima',\n",
    "        'M': 'Mike',\n",
    "        'N': 'November',\n",
    "        'O': 'Oscar',\n",
    "        'P': 'Papa',\n",
    "        'Q': 'Quebec',\n",
    "        'R': 'Romeo',\n",
    "        'S': 'Sierra',\n",
    "        'T': 'Tango',\n",
    "        'U': 'Uniform',\n",
    "        'V': 'Victor',\n",
    "        'W': 'Whiskey',\n",
    "        'X': 'Xray',\n",
    "        'Y': 'Yankee',\n",
    "        'Z': 'Zulu'\n",
    "    }\n",
    "    \n",
    "    # Define acceptable punctuation\n",
    "    punctuation = ['.','!','?',',']\n",
    "    split_sentence = words.split()\n",
    "    \n",
    "    for word in split_sentence:\n",
    "        for letter in word:\n",
    "            if letter in punctuation:\n",
    "                result.append(letter)\n",
    "                \n",
    "            elif letter.upper() in NATO:\n",
    "                letter = NATO[letter.upper()]\n",
    "                result.append(letter)\n",
    "                \n",
    "    return ' '.join(result)"
   ]
  },
  {
   "cell_type": "code",
   "execution_count": 40,
   "metadata": {},
   "outputs": [
    {
     "data": {
      "text/plain": [
       "'India Foxtrot , Yankee Oscar Uniform Charlie Alfa November Romeo Echo Alfa Delta Alfa November Xray Romeo Alfa Yankee ?'"
      ]
     },
     "execution_count": 40,
     "metadata": {},
     "output_type": "execute_result"
    }
   ],
   "source": [
    "words = 'If, you can read an x-ray?'\n",
    "to_nato(words)"
   ]
  },
  {
   "cell_type": "code",
   "execution_count": 41,
   "metadata": {},
   "outputs": [
    {
     "data": {
      "text/plain": [
       "'India Foxtrot Yankee Oscar Uniform Charlie Alfa November Romeo Echo Alfa Delta'"
      ]
     },
     "execution_count": 41,
     "metadata": {},
     "output_type": "execute_result"
    }
   ],
   "source": [
    "to_nato('If you can read')"
   ]
  },
  {
   "cell_type": "code",
   "execution_count": null,
   "metadata": {},
   "outputs": [],
   "source": []
  },
  {
   "cell_type": "markdown",
   "metadata": {},
   "source": [
    "## Snakes and Ladders\n",
    "[Link](https://www.codewars.com/kata/587136ba2eefcb92a9000027/train/python)\n",
    "#### Difficulty: 5 kyu\n",
    "#### Instructions:\n",
    "##### Introduction\n",
    "Snakes and Ladders is an ancient Indian board game regarded today as a worldwide classic. It is played between two or more players on a gameboard having numbered, gridded squares. A number of \"ladders\" and \"snakes\" are pictured on the board, each connecting two specific board squares. (Source [Wikipedia](https://en.wikipedia.org/wiki/Snakes_and_Ladders))\n",
    "\n",
    "##### Task\n",
    "Your task is to make a simple class called `SnakesLadders`. The test cases will call the method `play(die1, die2)` independantly of the state of the game or the player turn. The variables `die1` and `die2` are the die thrown in a turn and are both integers between 1 and 6. The player will move the sum of die1 and die2.\n",
    "##### The Board\n",
    "![board](https://raw.githubusercontent.com/adrianeyre/codewars/master/Ruby/Authored/snakesandladdersboard.jpg)\n",
    "\n",
    "##### Rules\n",
    "1. There are two players and both start off the board on square 0.\n",
    "\n",
    "2. Player 1 starts and alternates with player 2.\n",
    "\n",
    "3. You follow the numbers up the board in order 1=>100\n",
    "\n",
    "4. If the value of both die are the same then that player will have another go.\n",
    "\n",
    "5. Climb up ladders. The ladders on the game board allow you to move upwards and get ahead faster. If you land exactly on a square that shows an image of the bottom of a ladder, then you may move the player all the way up to the square at the top of the ladder. (even if you roll a double).\n",
    "\n",
    "6. Slide down snakes. Snakes move you back on the board because you have to slide down them. If you land exactly at the top of a snake, slide move the player all the way to the square at the bottom of the snake or chute. (even if you roll a double).\n",
    "\n",
    "7. Land exactly on the last square to win. The first person to reach the highest square on the board wins. But there's a twist! If you roll too high, your player \"bounces\" off the last square and moves back. You can only win by rolling the exact number needed to land on the last square. For example, if you are on square 98 and roll a five, move your game piece to 100 (two moves), then \"bounce\" back to 99, 98, 97 (three, four then five moves.)\n",
    "\n",
    "8. If the Player rolled a double and lands on the finish square “100” without any remaining moves then the Player wins the game and does not have to roll again.\n",
    "\n",
    "##### Returns\n",
    "Return `Player n Wins!`. Where n is winning player that has landed on square 100 without any remainding moves left.\n",
    "\n",
    "Return `Game over!` if a player has won and another player tries to play.\n",
    "\n",
    "Otherwise return `Player n is on square x`. Where n is the current player and x is the sqaure they are currently on.\n",
    "#### Sample Tests:\n",
    "\n",
    "`test.describe(\"Example tests\")\n",
    "game = SnakesLadders()\n",
    "test.it(\"Should return: 'Player 1 is on square 38'\")\n",
    "test.assert_equals(game.play(1, 1), \"Player 1 is on square 38\")\n",
    "test.it(\"Should return: 'Player 1 is on square 44'\")\n",
    "test.assert_equals(game.play(1, 5), \"Player 1 is on square 44\")\n",
    "test.it(\"Should return: 'Player 2 is on square 31'\")\n",
    "test.assert_equals(game.play(6, 2), \"Player 2 is on square 31\")\n",
    "test.it(\"Should return: 'Player 1 is on square 25'\")\n",
    "test.assert_equals(game.play(1, 1), \"Player 1 is on square 25\")`\n",
    "\n",
    "#### Solution:"
   ]
  },
  {
   "cell_type": "markdown",
   "metadata": {},
   "source": [
    "## Name\n",
    "[Link]()\n",
    "#### Difficulty: ?kyu\n",
    "#### Instructions:\n",
    "\n",
    "#### Sample Tests:\n",
    "\n",
    "#### Solution:"
   ]
  },
  {
   "cell_type": "code",
   "execution_count": null,
   "metadata": {},
   "outputs": [],
   "source": []
  }
 ],
 "metadata": {
  "kernelspec": {
   "display_name": "Python 3",
   "language": "python",
   "name": "python3"
  },
  "language_info": {
   "codemirror_mode": {
    "name": "ipython",
    "version": 3
   },
   "file_extension": ".py",
   "mimetype": "text/x-python",
   "name": "python",
   "nbconvert_exporter": "python",
   "pygments_lexer": "ipython3",
   "version": "3.8.5"
  }
 },
 "nbformat": 4,
 "nbformat_minor": 4
}
