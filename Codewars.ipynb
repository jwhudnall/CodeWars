{
 "cells": [
  {
   "cell_type": "markdown",
   "metadata": {},
   "source": [
    "# CodeWars\n",
    "\n",
    "This is a collection of my solutions to coding challenges on the website [Codewars](www.codewars.com)"
   ]
  },
  {
   "cell_type": "markdown",
   "metadata": {},
   "source": [
    "## Sum - Square Even, Root Odd\n",
    "#### Difficulty: 7kyu\n",
    "#### Instructions:\n",
    "Complete the function that takes a list of numbers `(nums)`, as the only argument to the function. Take each number in the list and square it if it is even, or square root the number if it is odd. Take this new list and return the sum of it, rounded to two decimal places.\n",
    "\n",
    "The list will never be empty and will only contain values that are greater than or equal to zero.\n",
    "\n",
    "#### Sample Tests:\n",
    "\n",
    "`Test.describe(\"Basic tests\")`\n",
    "\n",
    "`Test.assert_equals(sum_square_even_root_odd([4,5,7,8,1,2,3,0]), 91.61)`\n",
    "`Test.assert_equals(sum_square_even_root_odd([1,14,9,8,17,21]), 272.71)`\n",
    "\n",
    "#### Solution:"
   ]
  },
  {
   "cell_type": "code",
   "execution_count": 1,
   "metadata": {},
   "outputs": [],
   "source": [
    "def sum_square_even_root_odd(nums):\n",
    "    mod_list = []\n",
    "    for num in nums:\n",
    "        if num % 2 == 0:\n",
    "            mod_list.append(num**2)\n",
    "        else:\n",
    "            mod_list.append(num**(1/2))\n",
    "    total = sum(mod_list)\n",
    "    total_rounded = round(total, 2)\n",
    "    return total_rounded"
   ]
  },
  {
   "cell_type": "markdown",
   "metadata": {},
   "source": [
    "## Domain Name Extractor\n",
    "#### Difficulty: 5kyu\n",
    "#### Instructions:\n",
    "Write a function that when given a URL as a string, parses out just the domain name and returns it as a string. For example:\n",
    "\n",
    "`domain_name(\"http://github.com/carbonfive/raygun\") == \"github\" \n",
    "domain_name(\"http://www.zombie-bites.com\") == \"zombie-bites\"\n",
    "domain_name(\"https://www.cnet.com\") == \"cnet\"`\n",
    "\n",
    "#### Solution:"
   ]
  },
  {
   "cell_type": "code",
   "execution_count": 2,
   "metadata": {},
   "outputs": [],
   "source": [
    "def domain_name(url):    \n",
    "    if 'www.' in url:\n",
    "        url = url.split('www.')\n",
    "        url = url[1]\n",
    "    elif '//' in url:\n",
    "        url = url.split('//')\n",
    "        url = url[1]\n",
    "    url = url.split('.')\n",
    "    url = url[0]\n",
    "    return url"
   ]
  },
  {
   "cell_type": "markdown",
   "metadata": {},
   "source": [
    "## Reverse words\n",
    "#### Difficulty: 7kyu\n",
    "#### Instructions:\n",
    "Complete the function that accepts a string parameter, and reverses each word in the string. All spaces in the string should be retained.\n",
    "\n",
    "Examples\n",
    "`\"This is an example!\" ==> \"sihT si na !elpmaxe\"\n",
    "\"double  spaces\"      ==> \"elbuod  secaps\"`\n",
    "\n",
    "#### Solution:"
   ]
  },
  {
   "cell_type": "code",
   "execution_count": 3,
   "metadata": {},
   "outputs": [],
   "source": [
    "def reverse_words(text):\n",
    "    final = ''\n",
    "    words = text.split(' ')\n",
    "    if len(words) == 1:\n",
    "        return text[::-1]\n",
    "    else:\n",
    "        for word in words:\n",
    "            final += word[::-1] + ' '\n",
    "    return final.rstrip()"
   ]
  },
  {
   "cell_type": "code",
   "execution_count": 4,
   "metadata": {},
   "outputs": [
    {
     "name": "stdout",
     "output_type": "stream",
     "text": [
      "ehT kciuq nworb xof spmuj revo eht yzal .god\n"
     ]
    }
   ],
   "source": [
    "print(reverse_words('The quick brown fox jumps over the lazy dog.'))"
   ]
  },
  {
   "cell_type": "markdown",
   "metadata": {},
   "source": [
    "## Find the odd int\n",
    "#### Difficulty: 6kyu\n",
    "#### Instructions:\n",
    "Given an array of integers, find the one that appears an odd number of times.\n",
    "\n",
    "There will always be only one integer that appears an odd number of times.\n",
    "#### Sample Tests:\n",
    "\n",
    "`test.assert_equals(find_it([20,1,-1,2,-2,3,3,5,5,1,2,4,20,4,-1,-2,5]), 5)\n",
    "test.assert_equals(find_it([1,1,2,-2,5,2,4,4,-1,-2,5]), -1); \n",
    "test.assert_equals(find_it([20,1,1,2,2,3,3,5,5,4,20,4,5]), 5);\n",
    "test.assert_equals(find_it([10]), 10);\n",
    "test.assert_equals(find_it([1,1,1,1,1,1,10,1,1,1,1]), 10);\n",
    "test.assert_equals(find_it([5,4,3,2,1,5,4,3,2,10,10]), 1);`\n",
    "\n",
    "#### Solution:"
   ]
  },
  {
   "cell_type": "code",
   "execution_count": 5,
   "metadata": {},
   "outputs": [],
   "source": [
    "def find_it(seq):\n",
    "    nums_dict = {}\n",
    "    \n",
    "    # Populate a dictionary with integers:counts\n",
    "    for num in seq:\n",
    "        if num not in nums_dict:\n",
    "            nums_dict[num] = 1\n",
    "        else:\n",
    "            nums_dict[num] += 1\n",
    "    \n",
    "    # Return the first integer having an odd count\n",
    "    for k,v in nums_dict.items():\n",
    "        if v % 2 != 0:\n",
    "            return k"
   ]
  },
  {
   "cell_type": "code",
   "execution_count": 6,
   "metadata": {},
   "outputs": [
    {
     "name": "stdout",
     "output_type": "stream",
     "text": [
      "1\n"
     ]
    }
   ],
   "source": [
    "print(find_it([5,4,3,2,1,5,4,3,2,10,10]))\n"
   ]
  },
  {
   "cell_type": "markdown",
   "metadata": {},
   "source": [
    "**Better Solution:**"
   ]
  },
  {
   "cell_type": "code",
   "execution_count": 7,
   "metadata": {},
   "outputs": [],
   "source": [
    "def find_it(seq):\n",
    "    for i in seq:\n",
    "        if seq.count(i)%2!=0:\n",
    "            return i"
   ]
  },
  {
   "cell_type": "markdown",
   "metadata": {},
   "source": [
    "## Your order, please\n",
    "#### Difficulty: 6kyu\n",
    "#### Instructions:\n",
    "Your task is to sort a given string. Each word in the string will contain a single number. This number is the position the word should have in the result.\n",
    "\n",
    "Note: Numbers can be from 1 to 9. So 1 will be the first word (not 0).\n",
    "\n",
    "If the input string is empty, return an empty string. The words in the input String will only contain valid consecutive numbers.\n",
    "#### Sample Tests:\n",
    "\n",
    "`Test.assert_equals(order(\"is2 Thi1s T4est 3a\"), \"Thi1s is2 3a T4est\")\n",
    "Test.assert_equals(order(\"4of Fo1r pe6ople g3ood th5e the2\"), \"Fo1r the2 g3ood 4of th5e pe6ople\")\n",
    "Test.assert_equals(order(\"\"), \"\")`\n",
    "\n",
    "#### Solution:"
   ]
  },
  {
   "cell_type": "code",
   "execution_count": 8,
   "metadata": {},
   "outputs": [],
   "source": [
    "def order(sentence):\n",
    "    if not sentence:\n",
    "        return \"\"\n",
    "    \n",
    "    split_sentence = sentence.split()\n",
    "    list_of_words = []\n",
    "    \n",
    "    # append digit, word to list_of_words for sorting later\n",
    "    for word in split_sentence:\n",
    "        for char in word:\n",
    "            if char.isdigit():\n",
    "                list_of_words.append( (int(char), word) )\n",
    "                \n",
    "    return \" \".join(word for idx, word in sorted(list_of_words))"
   ]
  },
  {
   "cell_type": "code",
   "execution_count": 9,
   "metadata": {},
   "outputs": [
    {
     "data": {
      "text/plain": [
       "'Fo1r the2 g3ood 4of th5e pe6ople'"
      ]
     },
     "execution_count": 9,
     "metadata": {},
     "output_type": "execute_result"
    }
   ],
   "source": [
    "order(\"4of Fo1r pe6ople g3ood th5e the2\")"
   ]
  },
  {
   "cell_type": "markdown",
   "metadata": {},
   "source": [
    "## The Vowel Code\n",
    "#### Difficulty: 6kyu\n",
    "#### Instructions:\n",
    "**Step 1:** Create a function called encode() to replace all the lowercase vowels in a given string with numbers according to the following pattern:\n",
    "\n",
    "* a -> 1\n",
    "* e -> 2\n",
    "* i -> 3\n",
    "* o -> 4\n",
    "* u -> 5\n",
    "\n",
    "For example, `encode(\"hello\")` would return `\"h2ll4\"`. There is no need to worry about uppercase vowels in this kata.\n",
    "\n",
    "**Step 2:** Now create a function called decode() to turn the numbers back into vowels according to the same pattern shown above.\n",
    "\n",
    "For example, decode(\"h3 th2r2\") would return \"hi there\".\n",
    "\n",
    "For the sake of simplicity, you can assume that any numbers passed into the function will correspond to vowels.\n",
    "\n",
    "#### Sample Tests:\n",
    "\n",
    "`test.assert_equals(encode('hello'), 'h2ll4')\n",
    "test.assert_equals(encode('How are you today?'), 'H4w 1r2 y45 t4d1y?')\n",
    "test.assert_equals(encode('This is an encoding test.'), 'Th3s 3s 1n 2nc4d3ng t2st.')\n",
    "test.assert_equals(decode('h2ll4'), 'hello')`\n",
    "\n",
    "\n",
    "#### Solution:"
   ]
  },
  {
   "cell_type": "code",
   "execution_count": 10,
   "metadata": {},
   "outputs": [],
   "source": [
    "def encode(st):\n",
    "    '''Function that accepts a string as input and encodes vowels with numbers.\n",
    "    Returns encoded_str'''\n",
    "    \n",
    "    # Specify the encoding rules\n",
    "    vowel_encoding = {'a': 1, 'e': 2, 'i': 3, 'o': 4, 'u': 5}\n",
    "    coded_str = ''\n",
    "    \n",
    "    for char in st:\n",
    "        if char in vowel_encoding:\n",
    "            coded_str += str(vowel_encoding[char])\n",
    "        else:\n",
    "            coded_str += char\n",
    "    return coded_str\n",
    "    \n",
    "def decode(st):\n",
    "    '''Function that accepts a string as input and decodes numbers 1-5 with their corresponding vowels,\n",
    "    as specified within the function. Returns decoded_str'''\n",
    "    \n",
    "    # Specify the decoding rules\n",
    "    vowel_decoding = {'1': 'a', '2': 'e', '3': 'i', '4': 'o', '5': 'u'}\n",
    "    decoded_str = ''\n",
    "    \n",
    "    for char in st:\n",
    "        if char in vowel_decoding:\n",
    "            decoded_str += vowel_decoding[char]\n",
    "        else:\n",
    "            decoded_str += char\n",
    "    return decoded_str"
   ]
  },
  {
   "cell_type": "code",
   "execution_count": 11,
   "metadata": {
    "scrolled": true
   },
   "outputs": [
    {
     "data": {
      "text/plain": [
       "'h2ll4'"
      ]
     },
     "execution_count": 11,
     "metadata": {},
     "output_type": "execute_result"
    }
   ],
   "source": [
    "encode('hello')"
   ]
  },
  {
   "cell_type": "code",
   "execution_count": 12,
   "metadata": {
    "scrolled": true
   },
   "outputs": [
    {
     "data": {
      "text/plain": [
       "'hello'"
      ]
     },
     "execution_count": 12,
     "metadata": {},
     "output_type": "execute_result"
    }
   ],
   "source": [
    "decode('h2ll4')"
   ]
  },
  {
   "cell_type": "markdown",
   "metadata": {},
   "source": [
    "**More Succint Solution Using `str.maketrans` and `.translate()` Method**\n",
    "\n",
    "[Link](https://www.programiz.com/python-programming/methods/string/maketrans) to `maketrans` and `.translate()` Method"
   ]
  },
  {
   "cell_type": "code",
   "execution_count": 13,
   "metadata": {},
   "outputs": [],
   "source": [
    "def encode(s, t=str.maketrans(\"aeiou\", \"12345\")):\n",
    "    return s.translate(t)\n",
    "    \n",
    "def decode(s, t=str.maketrans(\"12345\", \"aeiou\")):\n",
    "    return s.translate(t)"
   ]
  },
  {
   "cell_type": "markdown",
   "metadata": {},
   "source": [
    "## Highest Rank Number in an Array\n",
    "#### Difficulty: 6kyu\n",
    "#### Instructions:\n",
    "Complete the method which returns the number which is most frequent in the given input array. If there is a tie for most frequent number, return the largest number among them.\n",
    "\n",
    "Note: no empty arrays will be given.\n",
    "\n",
    "#### Sample Tests:\n",
    "\n",
    "`test.assert_equals(highest_rank([12, 10, 8, 12, 7, 6, 4, 10, 12]), 12)\n",
    "test.assert_equals(highest_rank([12, 10, 8, 12, 7, 6, 4, 10, 10]), 10)`\n",
    "\n",
    "#### Solution:"
   ]
  },
  {
   "cell_type": "code",
   "execution_count": 14,
   "metadata": {},
   "outputs": [],
   "source": [
    "def highest_rank(arr):\n",
    "    '''Function that accepts a list as an argument and returns the most frequent item.\n",
    "    if multiple values have the same high-count, the larger item is returned'''\n",
    "    \n",
    "    # Populate a dictionary of arr items, counts\n",
    "    num_dict = {}\n",
    "    for num in arr:\n",
    "        if num not in num_dict:\n",
    "            num_dict[num]=1\n",
    "        else:\n",
    "            num_dict[num]+=1\n",
    "    \n",
    "    # Retreive the maximum count within the dictionary\n",
    "    all_values = num_dict.values()\n",
    "    max_value = max(all_values)\n",
    "    \n",
    "    # Create a list of all dictionary keys with the max_value value\n",
    "    max_val_list = []\n",
    "    for k,v in num_dict.items():\n",
    "        if v == max_value:\n",
    "            max_val_list.append(k)\n",
    "            \n",
    "    # Return the largest item having the highest count        \n",
    "    return max(max_val_list)"
   ]
  },
  {
   "cell_type": "code",
   "execution_count": 15,
   "metadata": {},
   "outputs": [
    {
     "data": {
      "text/plain": [
       "10"
      ]
     },
     "execution_count": 15,
     "metadata": {},
     "output_type": "execute_result"
    }
   ],
   "source": [
    "# Test\n",
    "highest_rank([12, 10, 8, 12, 7, 6, 4, 10, 10])"
   ]
  },
  {
   "cell_type": "markdown",
   "metadata": {},
   "source": [
    "### To-Study:\n",
    "Follow-up Solution using `Counter` library:"
   ]
  },
  {
   "cell_type": "code",
   "execution_count": 16,
   "metadata": {},
   "outputs": [],
   "source": [
    "from collections import Counter\n",
    "\n",
    "def highest_rank(arr):\n",
    "    if arr:\n",
    "        c = Counter(arr)\n",
    "        m = max(c.values())\n",
    "        return max(k for k,v in c.items() if v==m)"
   ]
  },
  {
   "cell_type": "markdown",
   "metadata": {},
   "source": [
    "#### Counter Learning\n",
    "`elements()`\n",
    "Return an iterator over elements repeating each as many times as its count. Elements are returned in the order first encountered. If an element’s count is less than one, elements() will ignore it.\n",
    "\n",
    "`most_common([n])`\n",
    "Return a list of the n most common elements and their counts from the most common to the least. If n is omitted or None, most_common() returns all elements in the counter. Elements with equal counts are ordered in the order first encountered:\n",
    "\n",
    "**Common Uses:**\n",
    "* `sum(c.values())`                 # total of all counts\n",
    "* `c.clear()`                       # reset all counts\n",
    "* `list(c)`                         # list unique elements\n",
    "* `set(c)`                          # convert to a set\n",
    "* `dict(c)`                         # convert to a regular dictionary\n",
    "* `c.items()`                       # convert to a list of (elem, cnt) pairs\n",
    "* `Counter(dict(list_of_pairs))`    # convert from a list of (elem, cnt) pairs\n",
    "* `c.most_common()[:-n-1:-1]`       # n least common elements\n",
    "* `+c`                              # remove zero and negative counts\n"
   ]
  },
  {
   "cell_type": "code",
   "execution_count": 25,
   "metadata": {},
   "outputs": [
    {
     "data": {
      "text/plain": [
       "[(2, 4), (3, 3)]"
      ]
     },
     "execution_count": 25,
     "metadata": {},
     "output_type": "execute_result"
    }
   ],
   "source": [
    "from collections import Counter\n",
    "\n",
    "my_list = [1,1,2,2,2,2,3,3,3,14,12]\n",
    "c = Counter(my_list)\n",
    "c.most_common(2) # Shows there are 4 2's, and 3 3's."
   ]
  },
  {
   "cell_type": "markdown",
   "metadata": {},
   "source": [
    "## Name\n",
    "#### Difficulty: ?kyu\n",
    "#### Instructions:\n",
    "\n",
    "#### Sample Tests:\n",
    "\n",
    "#### Solution:"
   ]
  },
  {
   "cell_type": "code",
   "execution_count": null,
   "metadata": {},
   "outputs": [],
   "source": []
  }
 ],
 "metadata": {
  "kernelspec": {
   "display_name": "Python 3",
   "language": "python",
   "name": "python3"
  },
  "language_info": {
   "codemirror_mode": {
    "name": "ipython",
    "version": 3
   },
   "file_extension": ".py",
   "mimetype": "text/x-python",
   "name": "python",
   "nbconvert_exporter": "python",
   "pygments_lexer": "ipython3",
   "version": "3.8.5"
  }
 },
 "nbformat": 4,
 "nbformat_minor": 4
}
