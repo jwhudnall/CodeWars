{
 "cells": [
  {
   "cell_type": "markdown",
   "metadata": {},
   "source": [
    "# CodeWars\n",
    "\n",
    "This is a collection of my solutions to coding challenges on the website [Codewars](www.codewars.com)"
   ]
  },
  {
   "cell_type": "markdown",
   "metadata": {},
   "source": [
    "## Sum - Square Even, Root Odd\n",
    "#### Difficulty: 7kyu\n",
    "#### Instructions:\n",
    "Complete the function that takes a list of numbers `(nums)`, as the only argument to the function. Take each number in the list and square it if it is even, or square root the number if it is odd. Take this new list and return the sum of it, rounded to two decimal places.\n",
    "\n",
    "The list will never be empty and will only contain values that are greater than or equal to zero.\n",
    "\n",
    "#### Sample Tests:\n",
    "\n",
    "`Test.describe(\"Basic tests\")`\n",
    "\n",
    "`Test.assert_equals(sum_square_even_root_odd([4,5,7,8,1,2,3,0]), 91.61)`\n",
    "`Test.assert_equals(sum_square_even_root_odd([1,14,9,8,17,21]), 272.71)`\n",
    "\n",
    "#### Solution:"
   ]
  },
  {
   "cell_type": "code",
   "execution_count": 1,
   "metadata": {},
   "outputs": [],
   "source": [
    "def sum_square_even_root_odd(nums):\n",
    "    mod_list = []\n",
    "    for num in nums:\n",
    "        if num % 2 == 0:\n",
    "            mod_list.append(num**2)\n",
    "        else:\n",
    "            mod_list.append(num**(1/2))\n",
    "    total = sum(mod_list)\n",
    "    total_rounded = round(total, 2)\n",
    "    return total_rounded"
   ]
  },
  {
   "cell_type": "markdown",
   "metadata": {},
   "source": [
    "## Domain Name Extractor\n",
    "#### Difficulty: 5kyu\n",
    "#### Instructions:\n",
    "Write a function that when given a URL as a string, parses out just the domain name and returns it as a string. For example:\n",
    "\n",
    "`domain_name(\"http://github.com/carbonfive/raygun\") == \"github\" \n",
    "domain_name(\"http://www.zombie-bites.com\") == \"zombie-bites\"\n",
    "domain_name(\"https://www.cnet.com\") == \"cnet\"`\n",
    "\n",
    "#### Solution:"
   ]
  },
  {
   "cell_type": "code",
   "execution_count": 2,
   "metadata": {},
   "outputs": [],
   "source": [
    "def domain_name(url):    \n",
    "    if 'www.' in url:\n",
    "        url = url.split('www.')\n",
    "        url = url[1]\n",
    "    elif '//' in url:\n",
    "        url = url.split('//')\n",
    "        url = url[1]\n",
    "    url = url.split('.')\n",
    "    url = url[0]\n",
    "    return url"
   ]
  },
  {
   "cell_type": "markdown",
   "metadata": {},
   "source": [
    "## Reverse words\n",
    "#### Difficulty: 7kyu\n",
    "#### Instructions:\n",
    "Complete the function that accepts a string parameter, and reverses each word in the string. All spaces in the string should be retained.\n",
    "\n",
    "Examples\n",
    "`\"This is an example!\" ==> \"sihT si na !elpmaxe\"\n",
    "\"double  spaces\"      ==> \"elbuod  secaps\"`\n",
    "\n",
    "#### Solution:"
   ]
  },
  {
   "cell_type": "code",
   "execution_count": 3,
   "metadata": {},
   "outputs": [],
   "source": [
    "def reverse_words(text):\n",
    "    final = ''\n",
    "    words = text.split(' ')\n",
    "    if len(words) == 1:\n",
    "        return text[::-1]\n",
    "    else:\n",
    "        for word in words:\n",
    "            final += word[::-1] + ' '\n",
    "    return final.rstrip()"
   ]
  },
  {
   "cell_type": "code",
   "execution_count": 4,
   "metadata": {},
   "outputs": [
    {
     "name": "stdout",
     "output_type": "stream",
     "text": [
      "ehT kciuq nworb xof spmuj revo eht yzal .god\n"
     ]
    }
   ],
   "source": [
    "print(reverse_words('The quick brown fox jumps over the lazy dog.'))"
   ]
  },
  {
   "cell_type": "markdown",
   "metadata": {},
   "source": [
    "## Find the odd int\n",
    "#### Difficulty: 6kyu\n",
    "#### Instructions:\n",
    "Given an array of integers, find the one that appears an odd number of times.\n",
    "\n",
    "There will always be only one integer that appears an odd number of times.\n",
    "#### Sample Tests:\n",
    "\n",
    "`test.assert_equals(find_it([20,1,-1,2,-2,3,3,5,5,1,2,4,20,4,-1,-2,5]), 5)\n",
    "test.assert_equals(find_it([1,1,2,-2,5,2,4,4,-1,-2,5]), -1); \n",
    "test.assert_equals(find_it([20,1,1,2,2,3,3,5,5,4,20,4,5]), 5);\n",
    "test.assert_equals(find_it([10]), 10);\n",
    "test.assert_equals(find_it([1,1,1,1,1,1,10,1,1,1,1]), 10);\n",
    "test.assert_equals(find_it([5,4,3,2,1,5,4,3,2,10,10]), 1);`\n",
    "\n",
    "#### Solution:"
   ]
  },
  {
   "cell_type": "code",
   "execution_count": 32,
   "metadata": {},
   "outputs": [],
   "source": [
    "def find_it(seq):\n",
    "    nums_dict = {}\n",
    "    \n",
    "    # Populate a dictionary with integers:counts\n",
    "    for num in seq:\n",
    "        if num not in nums_dict:\n",
    "            nums_dict[num] = 1\n",
    "        else:\n",
    "            nums_dict[num] += 1\n",
    "    \n",
    "    # Return the first integer having an odd count\n",
    "    for k,v in nums_dict.items():\n",
    "        if v % 2 != 0:\n",
    "            return k"
   ]
  },
  {
   "cell_type": "code",
   "execution_count": 33,
   "metadata": {},
   "outputs": [
    {
     "name": "stdout",
     "output_type": "stream",
     "text": [
      "1\n"
     ]
    }
   ],
   "source": [
    "print(find_it([5,4,3,2,1,5,4,3,2,10,10]))\n"
   ]
  },
  {
   "cell_type": "markdown",
   "metadata": {},
   "source": [
    "**Better Solution:**"
   ]
  },
  {
   "cell_type": "code",
   "execution_count": 35,
   "metadata": {},
   "outputs": [],
   "source": [
    "def find_it(seq):\n",
    "    for i in seq:\n",
    "        if seq.count(i)%2!=0:\n",
    "            return i"
   ]
  },
  {
   "cell_type": "markdown",
   "metadata": {},
   "source": [
    "## Name\n",
    "#### Difficulty: 7kyu\n",
    "#### Instructions:\n",
    "\n",
    "#### Sample Tests:\n",
    "\n",
    "#### Solution:"
   ]
  },
  {
   "cell_type": "code",
   "execution_count": null,
   "metadata": {},
   "outputs": [],
   "source": []
  }
 ],
 "metadata": {
  "kernelspec": {
   "display_name": "Python 3",
   "language": "python",
   "name": "python3"
  },
  "language_info": {
   "codemirror_mode": {
    "name": "ipython",
    "version": 3
   },
   "file_extension": ".py",
   "mimetype": "text/x-python",
   "name": "python",
   "nbconvert_exporter": "python",
   "pygments_lexer": "ipython3",
   "version": "3.8.5"
  }
 },
 "nbformat": 4,
 "nbformat_minor": 4
}
