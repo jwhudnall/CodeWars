{
 "cells": [
  {
   "cell_type": "markdown",
   "metadata": {},
   "source": [
    "# CodeWars\n",
    "\n",
    "This is a collection of my solutions to coding challenges on the website [Codewars](www.codewars.com)"
   ]
  },
  {
   "cell_type": "markdown",
   "metadata": {},
   "source": [
    "## Python"
   ]
  },
  {
   "cell_type": "markdown",
   "metadata": {},
   "source": [
    "#### Instructions:\n",
    "Write a function that when given a URL as a string, parses out just the domain name and returns it as a string. For example:\n",
    "\n",
    "`domain_name(\"http://github.com/carbonfive/raygun\") == \"github\" \n",
    "domain_name(\"http://www.zombie-bites.com\") == \"zombie-bites\"\n",
    "domain_name(\"https://www.cnet.com\") == \"cnet\"`\n",
    "\n",
    "#### Solution:"
   ]
  },
  {
   "cell_type": "code",
   "execution_count": 1,
   "metadata": {},
   "outputs": [],
   "source": [
    "def domain_name(url):    \n",
    "    if 'www.' in url:\n",
    "        url = url.split('www.')\n",
    "        url = url[1]\n",
    "    elif '//' in url:\n",
    "        url = url.split('//')\n",
    "        url = url[1]\n",
    "    url = url.split('.')\n",
    "    url = url[0]\n",
    "    return url"
   ]
  },
  {
   "cell_type": "code",
   "execution_count": null,
   "metadata": {},
   "outputs": [],
   "source": []
  }
 ],
 "metadata": {
  "kernelspec": {
   "display_name": "Python 3",
   "language": "python",
   "name": "python3"
  },
  "language_info": {
   "codemirror_mode": {
    "name": "ipython",
    "version": 3
   },
   "file_extension": ".py",
   "mimetype": "text/x-python",
   "name": "python",
   "nbconvert_exporter": "python",
   "pygments_lexer": "ipython3",
   "version": "3.8.5"
  }
 },
 "nbformat": 4,
 "nbformat_minor": 4
}
